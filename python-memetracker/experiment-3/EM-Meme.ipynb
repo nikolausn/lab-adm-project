{
 "cells": [
  {
   "cell_type": "code",
   "execution_count": 3,
   "metadata": {
    "collapsed": false
   },
   "outputs": [],
   "source": [
    "import json\n",
    "import numpy as np\n",
    "import matplotlib.pyplot as plt\n",
    "%matplotlib inline"
   ]
  },
  {
   "cell_type": "code",
   "execution_count": 20,
   "metadata": {
    "collapsed": false
   },
   "outputs": [
    {
     "data": {
      "text/plain": [
       "['a2i',\n",
       " 'aaa',\n",
       " 'aaai',\n",
       " 'aapo',\n",
       " 'aat',\n",
       " 'aazhang',\n",
       " 'abandonment',\n",
       " 'abbott',\n",
       " 'abbreviated',\n",
       " 'abcde',\n",
       " 'abe',\n",
       " 'abeles',\n",
       " 'abi',\n",
       " 'abilistic',\n",
       " 'abilities',\n",
       " 'ability',\n",
       " 'abl',\n",
       " 'able',\n",
       " 'ables',\n",
       " 'ablex',\n",
       " 'ably',\n",
       " 'abnormal',\n",
       " 'abort',\n",
       " 'abound',\n",
       " 'abramowicz',\n",
       " 'abrash',\n",
       " 'abrupt',\n",
       " 'abruptly',\n",
       " 'abscissa',\n",
       " 'absence',\n",
       " 'absent',\n",
       " 'absolute',\n",
       " 'absolutely',\n",
       " 'absorb',\n",
       " 'absorbed',\n",
       " 'absorbing',\n",
       " 'absorption',\n",
       " 'abstr',\n",
       " 'abstract',\n",
       " 'abstracted',\n",
       " 'abstraction',\n",
       " 'abu',\n",
       " 'abundances',\n",
       " 'aca',\n",
       " 'acad',\n",
       " 'academic',\n",
       " 'academy',\n",
       " 'acc',\n",
       " 'accelerate',\n",
       " 'accelerated',\n",
       " 'accelerating',\n",
       " 'acceleration',\n",
       " 'accelerator',\n",
       " 'accent',\n",
       " 'accept',\n",
       " 'acceptable',\n",
       " 'acceptably',\n",
       " 'acceptance',\n",
       " 'accepted',\n",
       " 'accepting',\n",
       " 'acceptor',\n",
       " 'access',\n",
       " 'accessed',\n",
       " 'accessible',\n",
       " 'accessing',\n",
       " 'accommodate',\n",
       " 'accommodated',\n",
       " 'accomodate',\n",
       " 'accompanied',\n",
       " 'accompanying',\n",
       " 'accomplish',\n",
       " 'accomplished',\n",
       " 'accomplishes',\n",
       " 'accord',\n",
       " 'accordance',\n",
       " 'according',\n",
       " 'account',\n",
       " 'accounted',\n",
       " 'accounting',\n",
       " 'accu',\n",
       " 'accumulate',\n",
       " 'accumulated',\n",
       " 'accumulates',\n",
       " 'accumulating',\n",
       " 'accumulation',\n",
       " 'accumulator',\n",
       " 'accuracies',\n",
       " 'accuracy',\n",
       " 'accurate',\n",
       " 'accurately',\n",
       " 'ace',\n",
       " 'acetylcholine',\n",
       " 'ach',\n",
       " 'achievable',\n",
       " 'achieve',\n",
       " 'achieved',\n",
       " 'achievement',\n",
       " 'achieves',\n",
       " 'achieving',\n",
       " 'achr',\n",
       " 'acid',\n",
       " 'ackley',\n",
       " 'acknowledge',\n",
       " 'acknowledged',\n",
       " 'acknowledgement',\n",
       " 'acknowledges',\n",
       " 'acknowledgment',\n",
       " 'acm',\n",
       " 'acous',\n",
       " 'acoust',\n",
       " 'acoustic',\n",
       " 'acoustical',\n",
       " 'acoustically',\n",
       " 'acquire',\n",
       " 'acquired',\n",
       " 'acquires',\n",
       " 'acquiring',\n",
       " 'acquisition',\n",
       " 'acrobot',\n",
       " 'act',\n",
       " 'acta',\n",
       " 'acter',\n",
       " 'acteristic',\n",
       " 'acti',\n",
       " 'acting',\n",
       " 'action',\n",
       " 'activ',\n",
       " 'activa',\n",
       " 'activate',\n",
       " 'activated',\n",
       " 'activates',\n",
       " 'activating',\n",
       " 'activation',\n",
       " 'active',\n",
       " 'actively',\n",
       " 'activities',\n",
       " 'activity',\n",
       " 'actor',\n",
       " 'actu',\n",
       " 'actual',\n",
       " 'actually',\n",
       " 'actuator',\n",
       " 'acuity',\n",
       " 'acute',\n",
       " 'acyclic',\n",
       " 'adaboost',\n",
       " 'adaline',\n",
       " 'adam',\n",
       " 'adap',\n",
       " 'adapt',\n",
       " 'adapta',\n",
       " 'adaptability',\n",
       " 'adaptable',\n",
       " 'adaptation',\n",
       " 'adapted',\n",
       " 'adapting',\n",
       " 'adaption',\n",
       " 'adaptive',\n",
       " 'adaptively',\n",
       " 'adaptivity',\n",
       " 'adatron',\n",
       " 'adauboost',\n",
       " 'adclus',\n",
       " 'add',\n",
       " 'added',\n",
       " 'addemup',\n",
       " 'adder',\n",
       " 'addi',\n",
       " 'adding',\n",
       " 'addison',\n",
       " 'addition',\n",
       " 'additional',\n",
       " 'additionally',\n",
       " 'additive',\n",
       " 'additively',\n",
       " 'address',\n",
       " 'addressable',\n",
       " 'addressed',\n",
       " 'addresses',\n",
       " 'addressing',\n",
       " 'ade',\n",
       " 'adelaide',\n",
       " 'adelson',\n",
       " 'adequate',\n",
       " 'adequately',\n",
       " 'adhesion',\n",
       " 'adiabatic',\n",
       " 'adjacency',\n",
       " 'adjacent',\n",
       " 'adjectives',\n",
       " 'adjoint',\n",
       " 'adjust',\n",
       " 'adjustable',\n",
       " 'adjusted',\n",
       " 'adjusting',\n",
       " 'adjustment',\n",
       " 'administration',\n",
       " 'admissibility',\n",
       " 'admissible',\n",
       " 'admission',\n",
       " 'admit',\n",
       " 'adopt',\n",
       " 'adopted',\n",
       " 'adopting',\n",
       " 'adrian',\n",
       " 'adult',\n",
       " 'adv',\n",
       " 'advan',\n",
       " 'advance',\n",
       " 'advanced',\n",
       " 'advances',\n",
       " 'advantage',\n",
       " 'advantageous',\n",
       " 'advantages',\n",
       " 'adversary',\n",
       " 'adverse',\n",
       " 'advice',\n",
       " 'advocate',\n",
       " 'advocated',\n",
       " 'aea',\n",
       " 'aer',\n",
       " 'aerial',\n",
       " 'aero',\n",
       " 'aeronautic',\n",
       " 'aerospace',\n",
       " 'aertsen',\n",
       " 'affect',\n",
       " 'affected',\n",
       " 'affecting',\n",
       " 'afferent',\n",
       " 'affine',\n",
       " 'afford',\n",
       " 'afforded',\n",
       " 'afosr',\n",
       " 'africa',\n",
       " 'aftereffect',\n",
       " 'afterward',\n",
       " 'against',\n",
       " 'agation',\n",
       " 'agc',\n",
       " 'age',\n",
       " 'aged',\n",
       " 'agencies',\n",
       " 'agency',\n",
       " 'agent',\n",
       " 'ages',\n",
       " 'agglomerative',\n",
       " 'aggregate',\n",
       " 'aggregated',\n",
       " 'aggregating',\n",
       " 'aggregation',\n",
       " 'aggressive',\n",
       " 'aging',\n",
       " 'agnostic',\n",
       " 'ago',\n",
       " 'agonist',\n",
       " 'agr',\n",
       " 'agree',\n",
       " 'agreed',\n",
       " 'agreement',\n",
       " 'agrees',\n",
       " 'agrin',\n",
       " 'aha',\n",
       " 'ahc',\n",
       " 'ahd',\n",
       " 'ahead',\n",
       " 'ahmad',\n",
       " 'ahp',\n",
       " 'aic',\n",
       " 'aid',\n",
       " 'aifnn',\n",
       " 'aii',\n",
       " 'aij',\n",
       " 'aim',\n",
       " 'aimed',\n",
       " 'aiming',\n",
       " 'ain',\n",
       " 'aining',\n",
       " 'aip',\n",
       " 'air',\n",
       " 'airborne',\n",
       " 'aircraft',\n",
       " 'aisb',\n",
       " 'ait',\n",
       " 'aixi',\n",
       " 'aji',\n",
       " 'akaike',\n",
       " 'aker',\n",
       " 'akin',\n",
       " 'ala',\n",
       " 'alamitos',\n",
       " 'alamos',\n",
       " 'alan',\n",
       " 'alarm',\n",
       " 'albeit',\n",
       " 'albrecht',\n",
       " 'albright',\n",
       " 'albuquerque',\n",
       " 'albus',\n",
       " 'alc',\n",
       " 'alcove',\n",
       " 'alent',\n",
       " 'alert',\n",
       " 'alertness',\n",
       " 'alessandro',\n",
       " 'alex',\n",
       " 'alexander',\n",
       " 'alexandre',\n",
       " 'alfred',\n",
       " 'alg',\n",
       " 'algebra',\n",
       " 'algebraic',\n",
       " 'algebraically',\n",
       " 'algo',\n",
       " 'algorit',\n",
       " 'algorithm',\n",
       " 'algorithmic',\n",
       " 'ali',\n",
       " 'aliased',\n",
       " 'aliasing',\n",
       " 'align',\n",
       " 'aligned',\n",
       " 'aligning',\n",
       " 'alignment',\n",
       " 'alike',\n",
       " 'alization',\n",
       " 'alkon',\n",
       " 'allel',\n",
       " 'allen',\n",
       " 'alleviate',\n",
       " 'allinson',\n",
       " 'allman',\n",
       " 'allocate',\n",
       " 'allocated',\n",
       " 'allocates',\n",
       " 'allocating',\n",
       " 'allocation',\n",
       " 'allocator',\n",
       " 'allow',\n",
       " 'allowable',\n",
       " 'allowed',\n",
       " 'allowing',\n",
       " 'ally',\n",
       " 'alm',\n",
       " 'almaden',\n",
       " 'almeida',\n",
       " 'alon',\n",
       " 'aloud',\n",
       " 'alpha',\n",
       " 'alphabet',\n",
       " 'alphanumeric',\n",
       " 'alphas',\n",
       " 'alspector',\n",
       " 'alt',\n",
       " 'alter',\n",
       " 'alteration',\n",
       " 'altered',\n",
       " 'altering',\n",
       " 'alterna',\n",
       " 'alternate',\n",
       " 'alternately',\n",
       " 'alternates',\n",
       " 'alternating',\n",
       " 'alternation',\n",
       " 'alternative',\n",
       " 'alternatively',\n",
       " 'alternatives',\n",
       " 'altitude',\n",
       " 'alto',\n",
       " 'altogether',\n",
       " 'altos',\n",
       " 'alvinn',\n",
       " 'alvis',\n",
       " 'alway',\n",
       " 'alzheimer',\n",
       " 'amacrine',\n",
       " 'amap',\n",
       " 'amari',\n",
       " 'amax',\n",
       " 'ambient',\n",
       " 'ambiguities',\n",
       " 'ambiguity',\n",
       " 'ambiguous',\n",
       " 'amenable',\n",
       " 'amer',\n",
       " 'america',\n",
       " 'american',\n",
       " 'americana',\n",
       " 'ames',\n",
       " 'amherst',\n",
       " 'amin',\n",
       " 'aminergic',\n",
       " 'amino',\n",
       " 'amir',\n",
       " 'amit',\n",
       " 'amnesia',\n",
       " 'amorphous',\n",
       " 'amount',\n",
       " 'ampa',\n",
       " 'ample',\n",
       " 'amples',\n",
       " 'ampli',\n",
       " 'amplification',\n",
       " 'amplified',\n",
       " 'amplifier',\n",
       " 'amplifies',\n",
       " 'amplify',\n",
       " 'amplifying',\n",
       " 'amplitude',\n",
       " 'amplitudes',\n",
       " 'amputation',\n",
       " 'amsterdam',\n",
       " 'ana',\n",
       " 'anal',\n",
       " 'analog',\n",
       " 'analogical',\n",
       " 'analogies',\n",
       " 'analogous',\n",
       " 'analogously',\n",
       " 'analogue',\n",
       " 'analogy',\n",
       " 'analy',\n",
       " 'analyse',\n",
       " 'analysed',\n",
       " 'analyser',\n",
       " 'analyses',\n",
       " 'analysing',\n",
       " 'analysis',\n",
       " 'analyte',\n",
       " 'analytic',\n",
       " 'analytical',\n",
       " 'analytically',\n",
       " 'analyze',\n",
       " 'analyzed',\n",
       " 'analyzer',\n",
       " 'analyzes',\n",
       " 'analyzing',\n",
       " 'anand',\n",
       " 'anandan',\n",
       " 'anastasio',\n",
       " 'anatomical',\n",
       " 'anatomically',\n",
       " 'anatomy',\n",
       " 'ance',\n",
       " 'ances',\n",
       " 'ancestor',\n",
       " 'ander',\n",
       " 'andersen',\n",
       " 'anderson',\n",
       " 'andre',\n",
       " 'andreas',\n",
       " 'andreou',\n",
       " 'andrew',\n",
       " 'andy',\n",
       " 'anention',\n",
       " 'anesthetized',\n",
       " 'angeles',\n",
       " 'angeline',\n",
       " 'angiotensin',\n",
       " 'angle',\n",
       " 'angles',\n",
       " 'angluin',\n",
       " 'angular',\n",
       " 'animal',\n",
       " 'animation',\n",
       " 'anism',\n",
       " 'anisotropic',\n",
       " 'anisotropy',\n",
       " 'ann',\n",
       " 'anna',\n",
       " 'annal',\n",
       " 'annaswamy',\n",
       " 'anneal',\n",
       " 'annealed',\n",
       " 'annealing',\n",
       " 'annotated',\n",
       " 'annu',\n",
       " 'annual',\n",
       " 'annular',\n",
       " 'annulus',\n",
       " 'anomalous',\n",
       " 'anomaly',\n",
       " 'anonymous',\n",
       " 'anova',\n",
       " 'ansatz',\n",
       " 'answer',\n",
       " 'answered',\n",
       " 'ant',\n",
       " 'antagonist',\n",
       " 'antagonistic',\n",
       " 'antecedent',\n",
       " 'antenna',\n",
       " 'antennal',\n",
       " 'antennas',\n",
       " 'anterior',\n",
       " 'anthony',\n",
       " 'anti',\n",
       " 'anticipate',\n",
       " 'anticipated',\n",
       " 'anticipatory',\n",
       " 'antisymmetric',\n",
       " 'antlgen',\n",
       " 'anton',\n",
       " 'anu',\n",
       " 'anyboost',\n",
       " 'anymore',\n",
       " 'anyway',\n",
       " 'aperiodic',\n",
       " 'aperture',\n",
       " 'apex',\n",
       " 'apg',\n",
       " 'aphasia',\n",
       " 'apical',\n",
       " 'aplysia',\n",
       " 'apobayesian',\n",
       " 'app',\n",
       " 'apparatus',\n",
       " 'apparent',\n",
       " 'apparently',\n",
       " 'appeal',\n",
       " 'appealing',\n",
       " 'appearance',\n",
       " 'appeared',\n",
       " 'appearing',\n",
       " 'appendix',\n",
       " 'appl',\n",
       " 'apple',\n",
       " 'appli',\n",
       " 'applica',\n",
       " 'applicability',\n",
       " 'applicable',\n",
       " 'application',\n",
       " 'applied',\n",
       " 'applies',\n",
       " 'apply',\n",
       " 'applying',\n",
       " 'appreciable',\n",
       " 'appreciated',\n",
       " 'appro',\n",
       " 'approach',\n",
       " 'approached',\n",
       " 'approaches',\n",
       " 'approaching',\n",
       " 'appropri',\n",
       " 'appropriately',\n",
       " 'approx',\n",
       " 'approxi',\n",
       " 'approxima',\n",
       " 'approximate',\n",
       " 'approximated',\n",
       " 'approximately',\n",
       " 'approximates',\n",
       " 'approximating',\n",
       " 'approximation',\n",
       " 'approximator',\n",
       " 'apr',\n",
       " 'april',\n",
       " 'apriori',\n",
       " 'aration',\n",
       " 'arbi',\n",
       " 'arbib',\n",
       " 'arbitrarily',\n",
       " 'arbitrary',\n",
       " 'arbitration',\n",
       " 'arbor',\n",
       " 'arborization',\n",
       " 'arc',\n",
       " 'arccos',\n",
       " 'arch',\n",
       " 'archi',\n",
       " 'archie',\n",
       " 'architec',\n",
       " 'architectural',\n",
       " 'architecture',\n",
       " 'architectures',\n",
       " 'archive',\n",
       " 'arcing',\n",
       " 'ard',\n",
       " 'area',\n",
       " 'areas',\n",
       " 'aren',\n",
       " 'arethor',\n",
       " 'arf',\n",
       " 'arg',\n",
       " 'argi',\n",
       " 'argmax',\n",
       " 'argmaxp',\n",
       " 'argmin',\n",
       " 'argue',\n",
       " 'argued',\n",
       " 'argues',\n",
       " 'argument',\n",
       " 'ariaboost',\n",
       " 'aries',\n",
       " 'arise',\n",
       " 'arises',\n",
       " 'arising',\n",
       " 'arithmetic',\n",
       " 'arizona',\n",
       " 'arl',\n",
       " 'arline',\n",
       " 'arm',\n",
       " 'arma',\n",
       " 'armed',\n",
       " 'armstrong',\n",
       " 'army',\n",
       " 'arnold',\n",
       " 'aro',\n",
       " 'arose',\n",
       " 'arousal',\n",
       " 'arpa',\n",
       " 'arrange',\n",
       " 'arranged',\n",
       " 'arrangement',\n",
       " 'array',\n",
       " 'arrhythmia',\n",
       " 'arrhythmias',\n",
       " 'arrival',\n",
       " 'arrive',\n",
       " 'arrived',\n",
       " 'arrives',\n",
       " 'arriving',\n",
       " 'arrow',\n",
       " 'art',\n",
       " 'art1',\n",
       " 'art2',\n",
       " 'artery',\n",
       " 'artex',\n",
       " 'arti',\n",
       " 'article',\n",
       " 'articles',\n",
       " 'articulated',\n",
       " 'articulation',\n",
       " 'articulator',\n",
       " 'articulatory',\n",
       " 'artifact',\n",
       " 'artifactual',\n",
       " 'artifi',\n",
       " 'artificial',\n",
       " 'artificially',\n",
       " 'artmap',\n",
       " 'arx',\n",
       " 'ary',\n",
       " 'asa',\n",
       " 'ascender',\n",
       " 'ascending',\n",
       " 'ascent',\n",
       " 'ascertain',\n",
       " 'ase',\n",
       " 'ash',\n",
       " 'asi',\n",
       " 'asilomar',\n",
       " 'ask',\n",
       " 'asked',\n",
       " 'asking',\n",
       " 'asme',\n",
       " 'asogawa',\n",
       " 'aspect',\n",
       " 'asr',\n",
       " 'ass',\n",
       " 'assad',\n",
       " 'assembled',\n",
       " 'assembler',\n",
       " 'assemblies',\n",
       " 'assembly',\n",
       " 'assert',\n",
       " 'assertion',\n",
       " 'assess',\n",
       " 'assessed',\n",
       " 'assessing',\n",
       " 'assessment',\n",
       " 'asset',\n",
       " 'assign',\n",
       " 'assigned',\n",
       " 'assigning',\n",
       " 'assignment',\n",
       " 'assimilation',\n",
       " 'assist',\n",
       " 'assistance',\n",
       " 'assisted',\n",
       " 'asso',\n",
       " 'assoc',\n",
       " 'associ',\n",
       " 'associa',\n",
       " 'associate',\n",
       " 'associates',\n",
       " 'associating',\n",
       " 'association',\n",
       " 'associative',\n",
       " 'associator',\n",
       " 'assp',\n",
       " 'assume',\n",
       " 'assumed',\n",
       " 'assumes',\n",
       " 'assuming',\n",
       " 'assump',\n",
       " 'assumption',\n",
       " 'assure',\n",
       " 'assured',\n",
       " 'assures',\n",
       " 'ast',\n",
       " 'astc',\n",
       " 'asterisk',\n",
       " 'aston',\n",
       " 'astronomy',\n",
       " 'asy',\n",
       " 'asymmetric',\n",
       " 'asymmetrical',\n",
       " 'asymmetries',\n",
       " 'asymmetry',\n",
       " 'asymp',\n",
       " 'asymptote',\n",
       " 'asymptotes',\n",
       " 'asymptotic',\n",
       " 'asymptotically',\n",
       " 'asynchronizable',\n",
       " 'asynchronous',\n",
       " 'asynchronously',\n",
       " 'ata',\n",
       " 'ate',\n",
       " 'ated',\n",
       " 'ates',\n",
       " 'athe',\n",
       " 'athena',\n",
       " 'ati',\n",
       " 'atick',\n",
       " 'ating',\n",
       " 'ation',\n",
       " 'ative',\n",
       " 'atively',\n",
       " 'atiya',\n",
       " 'atkeson',\n",
       " 'atlanta',\n",
       " 'atlantic',\n",
       " 'atlas',\n",
       " 'atmospheric',\n",
       " 'atom',\n",
       " 'atomic',\n",
       " 'ator',\n",
       " 'atr',\n",
       " 'att',\n",
       " 'attach',\n",
       " 'attached',\n",
       " 'attachment',\n",
       " 'attack',\n",
       " 'attacked',\n",
       " 'attain',\n",
       " 'attainable',\n",
       " 'attained',\n",
       " 'attaining',\n",
       " 'attempt',\n",
       " 'attempted',\n",
       " 'attempting',\n",
       " 'attend',\n",
       " 'attended',\n",
       " 'attention',\n",
       " 'attentional',\n",
       " 'attentive',\n",
       " 'attenuated',\n",
       " 'attenuation',\n",
       " 'attias',\n",
       " 'attitude',\n",
       " 'attrac',\n",
       " 'attract',\n",
       " 'attracted',\n",
       " 'attracting',\n",
       " 'attraction',\n",
       " 'attractive',\n",
       " 'attractor',\n",
       " 'attribute',\n",
       " 'attributed',\n",
       " 'attributes',\n",
       " 'ature',\n",
       " 'atypical',\n",
       " 'aud',\n",
       " 'audio',\n",
       " 'audiovisual',\n",
       " 'audition',\n",
       " 'auditory',\n",
       " 'auer',\n",
       " 'aug',\n",
       " 'augment',\n",
       " 'augmentation',\n",
       " 'augmented',\n",
       " 'augmenting',\n",
       " 'august',\n",
       " 'austin',\n",
       " 'australia',\n",
       " 'australian',\n",
       " 'austria',\n",
       " 'austrian',\n",
       " 'aut',\n",
       " 'autapse',\n",
       " 'author',\n",
       " 'autistic',\n",
       " 'auto',\n",
       " 'autoassociation',\n",
       " 'autoassociative',\n",
       " 'autoassociator',\n",
       " 'autocorrelation',\n",
       " 'autoencoder',\n",
       " 'automata',\n",
       " 'automate',\n",
       " 'automated',\n",
       " 'automatic',\n",
       " 'automatically',\n",
       " 'automation',\n",
       " 'automaton',\n",
       " 'autonomous',\n",
       " 'autonomously',\n",
       " 'autoregressive',\n",
       " 'autorsm',\n",
       " 'autoshaping',\n",
       " 'autotypist',\n",
       " 'aux',\n",
       " 'auxiliary',\n",
       " 'avail',\n",
       " 'availability',\n",
       " 'ave',\n",
       " 'avenue',\n",
       " 'aver',\n",
       " 'average',\n",
       " 'averaged',\n",
       " 'averages',\n",
       " 'averaging',\n",
       " 'avg',\n",
       " 'avi',\n",
       " 'aviv',\n",
       " 'avlsi',\n",
       " 'avn',\n",
       " 'avoid',\n",
       " 'avoidance',\n",
       " 'avoided',\n",
       " 'avoiding',\n",
       " 'awake',\n",
       " 'award',\n",
       " 'aware',\n",
       " 'awareness',\n",
       " 'awi',\n",
       " 'awij',\n",
       " 'awl',\n",
       " 'awt',\n",
       " 'axe',\n",
       " 'axes',\n",
       " 'axi',\n",
       " 'axial',\n",
       " 'axis',\n",
       " 'axo',\n",
       " 'axon',\n",
       " 'axonal',\n",
       " 'axt',\n",
       " 'azimuth',\n",
       " 'babak',\n",
       " 'bach',\n",
       " 'bachrach',\n",
       " 'bachtach',\n",
       " 'backbone',\n",
       " 'backer',\n",
       " 'backfitting',\n",
       " 'backgammon',\n",
       " 'background',\n",
       " 'backprop',\n",
       " 'backpropa',\n",
       " 'backpropaga',\n",
       " 'backpropagate',\n",
       " 'backpropagated',\n",
       " 'backpropagating',\n",
       " 'backpropagation',\n",
       " 'backscatter',\n",
       " 'backup',\n",
       " 'backward',\n",
       " 'bad',\n",
       " 'baddeley',\n",
       " 'badly',\n",
       " 'baep',\n",
       " 'bag',\n",
       " 'bagged',\n",
       " 'bagging',\n",
       " 'bahl',\n",
       " 'bain',\n",
       " 'bair',\n",
       " 'baird',\n",
       " 'baker',\n",
       " 'bakiri',\n",
       " 'bakker',\n",
       " 'bal',\n",
       " 'balance',\n",
       " 'balanced',\n",
       " 'balances',\n",
       " 'balancing',\n",
       " 'baldi',\n",
       " 'ball',\n",
       " 'ballard',\n",
       " 'ballistic',\n",
       " 'balltree',\n",
       " 'baltimore',\n",
       " 'baluja',\n",
       " 'band',\n",
       " 'bandit',\n",
       " 'bandpass',\n",
       " 'bandwidth',\n",
       " 'bang',\n",
       " 'bank',\n",
       " 'bar',\n",
       " 'barak',\n",
       " 'baram',\n",
       " 'barbara',\n",
       " 'barber',\n",
       " 'barely',\n",
       " 'barhen',\n",
       " 'bark',\n",
       " 'barkai',\n",
       " 'barlow',\n",
       " 'barn',\n",
       " 'barnard',\n",
       " 'barnden',\n",
       " 'barnes',\n",
       " 'barney',\n",
       " 'baroque',\n",
       " 'barr',\n",
       " 'barrel',\n",
       " 'barrett',\n",
       " 'barrier',\n",
       " 'barron',\n",
       " 'barrow',\n",
       " 'barry',\n",
       " 'bart',\n",
       " 'bartlett',\n",
       " 'barto',\n",
       " 'barycentric',\n",
       " 'basal',\n",
       " 'base',\n",
       " 'baseband',\n",
       " 'baseline',\n",
       " 'bases',\n",
       " 'basford',\n",
       " 'basic',\n",
       " 'basically',\n",
       " 'basilar',\n",
       " 'basin',\n",
       " 'basis',\n",
       " 'basri',\n",
       " 'bass',\n",
       " 'bastian',\n",
       " 'bat',\n",
       " 'batch',\n",
       " 'batches',\n",
       " 'bateson',\n",
       " 'bath',\n",
       " 'batteries',\n",
       " 'battery',\n",
       " 'battiti',\n",
       " 'bauer',\n",
       " 'baum',\n",
       " 'baxter',\n",
       " 'bay',\n",
       " 'bayes',\n",
       " 'bayesian',\n",
       " 'bayliss',\n",
       " 'baylor',\n",
       " 'bbd',\n",
       " 'bbn',\n",
       " 'bbp',\n",
       " 'bcm',\n",
       " 'bdcl',\n",
       " 'bdg',\n",
       " 'bdgptk',\n",
       " 'bead',\n",
       " 'beam',\n",
       " 'bear',\n",
       " 'bearing',\n",
       " 'beat',\n",
       " 'beaverton',\n",
       " 'beck',\n",
       " 'becker',\n",
       " 'beckman',\n",
       " 'bed',\n",
       " 'bee',\n",
       " 'beer',\n",
       " 'bees',\n",
       " 'began',\n",
       " 'begin',\n",
       " 'beginning',\n",
       " 'begun',\n",
       " 'behav',\n",
       " 'behave',\n",
       " 'behaved',\n",
       " 'behaves',\n",
       " 'behaving',\n",
       " 'behavior',\n",
       " 'behavioral',\n",
       " 'behaviorally',\n",
       " 'behaviour',\n",
       " 'behavioural',\n",
       " 'behrmann',\n",
       " 'belew',\n",
       " 'belgium',\n",
       " 'belief',\n",
       " 'believe',\n",
       " 'believed',\n",
       " ...]"
      ]
     },
     "execution_count": 20,
     "metadata": {},
     "output_type": "execute_result"
    }
   ],
   "source": [
    "vocabulary = []\n",
    "with open('vocab.nips.txt','r') as vocfile:    \n",
    "    for voc in vocfile:\n",
    "        voc = voc.replace('\\n','')\n",
    "        vocabulary.append(voc)\n",
    "vocabulary"
   ]
  },
  {
   "cell_type": "code",
   "execution_count": 68,
   "metadata": {
    "collapsed": false
   },
   "outputs": [
    {
     "data": {
      "text/plain": [
       "(1500, 12419)"
      ]
     },
     "execution_count": 68,
     "metadata": {},
     "output_type": "execute_result"
    }
   ],
   "source": [
    "#x_mat = np.matrix(np.tile(np.random.randint(1000),(50,50)))\n",
    "totalClust=10\n",
    "#?np.zeros\n",
    "\n",
    "x_mat = np.zeros((1500,12419))\n",
    "with open('docword.nips.txt','r') as docfile:\n",
    "    # skip 3 lines\n",
    "    for i in range(3):\n",
    "        next(docfile)\n",
    "    for doc in docfile:\n",
    "        content = doc.split(' ')\n",
    "        x_mat[int(content[0])-1,int(content[1])-1] = int(content[2])\n",
    "    \n",
    "x_mat.shape"
   ]
  },
  {
   "cell_type": "code",
   "execution_count": 71,
   "metadata": {
    "collapsed": false
   },
   "outputs": [
    {
     "data": {
      "text/plain": [
       "(20001, 33925)"
      ]
     },
     "execution_count": 71,
     "metadata": {},
     "output_type": "execute_result"
    }
   ],
   "source": [
    "#x_mat = np.matrix(np.tile(np.random.randint(1000),(50,50)))\n",
    "totalClust=10\n",
    "#?np.zeros\n",
    "\n",
    "x_mat = np.zeros((20001,31494))\n",
    "with open('feat-obs.txt','r') as docfile:\n",
    "    # skip 3 lines\n",
    "    for i in range(3):\n",
    "        next(docfile)\n",
    "    for doc in docfile:        \n",
    "        content = doc.split(',')\n",
    "        x_mat[int(content[0])-1,int(content[1])-1] = int(content[2])\n",
    "    \n",
    "x_mat.shape"
   ]
  },
  {
   "cell_type": "code",
   "execution_count": 6,
   "metadata": {
    "collapsed": false
   },
   "outputs": [
    {
     "data": {
      "text/plain": [
       "array([[ 0.,  1.,  0., ...,  0.,  0.,  0.],\n",
       "       [ 0.,  0.,  0., ...,  0.,  0.,  0.],\n",
       "       [ 0.,  0.,  0., ...,  0.,  0.,  0.],\n",
       "       ..., \n",
       "       [ 0.,  0.,  0., ...,  0.,  0.,  0.],\n",
       "       [ 0.,  0.,  2., ...,  0.,  0.,  0.],\n",
       "       [ 0.,  0.,  0., ...,  0.,  0.,  0.]])"
      ]
     },
     "execution_count": 6,
     "metadata": {},
     "output_type": "execute_result"
    }
   ],
   "source": [
    "x_mat"
   ]
  },
  {
   "cell_type": "code",
   "execution_count": 152,
   "metadata": {
    "collapsed": false
   },
   "outputs": [
    {
     "name": "stdout",
     "output_type": "stream",
     "text": [
      "(15, 31494)\n"
     ]
    },
    {
     "data": {
      "text/plain": [
       "0.99999999999999944"
      ]
     },
     "execution_count": 152,
     "metadata": {},
     "output_type": "execute_result"
    }
   ],
   "source": [
    "totalClust=15\n",
    "# total clusters\n",
    "j=totalClust\n",
    "# total documents\n",
    "i=x_mat.shape[0]\n",
    "# total vocabularies\n",
    "k=x_mat.shape[1]\n",
    "\n",
    "# initialize pi_j matrix with same probability\n",
    "pi_j = np.repeat(1/j,j)\n",
    "\n",
    "# prepare words probability for each clusters and documents\n",
    "p_jk = np.matrix(np.tile(1/k,(j,k)))\n",
    "# prepare w_ij matrix initialize\n",
    "w_ij = np.matrix(np.tile(0,(i,j)))\n",
    "\n",
    "# init random for p_jk\n",
    "sample = [np.random.randint(0,high=i) for x in range(j)]\n",
    "p_jk = x_mat[sample,]\n",
    "\n",
    "# small values to avoid log(0)\n",
    "epsilon = 1e-7\n",
    "\n",
    "p_jk = p_jk + epsilon\n",
    "# normalize p_jk so the probability will be equal one\n",
    "#p_jk = [p_jk[x,]/sum(p_jk[x,]) for x in range(j)]\n",
    "p_jk = np.asarray([np.asarray(p_jk[x,]/p_jk[x,].sum()) for x in range(j)])\n",
    "print(p_jk.shape)\n",
    "p_jk = np.reshape(p_jk,(j,k))\n",
    "# test normalize function\n",
    "p_jk[1,].sum()\n",
    "\n",
    "#np.asarray(p_jk[1,]/p_jk[1,].sum())\n",
    "#np.apply_along_axis(lambda x: x,p_jk,0)\n",
    "\n",
    "#?np.random.randint\n"
   ]
  },
  {
   "cell_type": "code",
   "execution_count": 153,
   "metadata": {
    "collapsed": false
   },
   "outputs": [
    {
     "name": "stdout",
     "output_type": "stream",
     "text": [
      "ESTEP\n"
     ]
    },
    {
     "ename": "KeyboardInterrupt",
     "evalue": "",
     "output_type": "error",
     "traceback": [
      "\u001b[0;31m---------------------------------------------------------------------------\u001b[0m",
      "\u001b[0;31mKeyboardInterrupt\u001b[0m                         Traceback (most recent call last)",
      "\u001b[0;32m<ipython-input-153-387a7972008e>\u001b[0m in \u001b[0;36m<module>\u001b[0;34m()\u001b[0m\n\u001b[1;32m     11\u001b[0m             \u001b[0;31m#print(p_jk[jTrace,].shape)\u001b[0m\u001b[0;34m\u001b[0m\u001b[0;34m\u001b[0m\u001b[0m\n\u001b[1;32m     12\u001b[0m             \u001b[0;31m#print(x_mat[iTrace,].dot(np.log(p_jk[jTrace,])))\u001b[0m\u001b[0;34m\u001b[0m\u001b[0;34m\u001b[0m\u001b[0m\n\u001b[0;32m---> 13\u001b[0;31m             \u001b[0mw_ij_ex\u001b[0m \u001b[0;34m=\u001b[0m \u001b[0mx_mat\u001b[0m\u001b[0;34m[\u001b[0m\u001b[0miTrace\u001b[0m\u001b[0;34m,\u001b[0m\u001b[0;34m]\u001b[0m\u001b[0;34m.\u001b[0m\u001b[0mdot\u001b[0m\u001b[0;34m(\u001b[0m\u001b[0mnp\u001b[0m\u001b[0;34m.\u001b[0m\u001b[0mlog\u001b[0m\u001b[0;34m(\u001b[0m\u001b[0mp_jk\u001b[0m\u001b[0;34m[\u001b[0m\u001b[0mjTrace\u001b[0m\u001b[0;34m,\u001b[0m\u001b[0;34m]\u001b[0m\u001b[0;34m)\u001b[0m\u001b[0;34m)\u001b[0m \u001b[0;34m+\u001b[0m \u001b[0mnp\u001b[0m\u001b[0;34m.\u001b[0m\u001b[0mlog\u001b[0m\u001b[0;34m(\u001b[0m\u001b[0mpi_j\u001b[0m\u001b[0;34m[\u001b[0m\u001b[0mjTrace\u001b[0m\u001b[0;34m]\u001b[0m\u001b[0;34m)\u001b[0m\u001b[0;34m\u001b[0m\u001b[0m\n\u001b[0m\u001b[1;32m     14\u001b[0m             \u001b[0msum_Qpart\u001b[0m \u001b[0;34m=\u001b[0m \u001b[0msum_Qpart\u001b[0m \u001b[0;34m+\u001b[0m \u001b[0mw_ij_ex\u001b[0m\u001b[0;34m\u001b[0m\u001b[0m\n\u001b[1;32m     15\u001b[0m             \u001b[0;31m#print(w_ij_ex.shape)\u001b[0m\u001b[0;34m\u001b[0m\u001b[0;34m\u001b[0m\u001b[0m\n",
      "\u001b[0;31mKeyboardInterrupt\u001b[0m: "
     ]
    }
   ],
   "source": [
    "trace_Q = 100\n",
    "old_Q = 0\n",
    "treshold = 1e-4\n",
    "while(trace_Q > treshold):\n",
    "    sum_Qpart = 0\n",
    "    print('ESTEP')\n",
    "    for iTrace in range(i):\n",
    "        w_ij_coll = []\n",
    "        for jTrace in range(j):\n",
    "            #print(x_mat[iTrace,].shape)\n",
    "            #print(p_jk[jTrace,].shape)\n",
    "            #print(x_mat[iTrace,].dot(np.log(p_jk[jTrace,])))\n",
    "            w_ij_ex = x_mat[iTrace,].dot(np.log(p_jk[jTrace,])) + np.log(pi_j[jTrace])\n",
    "            sum_Qpart = sum_Qpart + w_ij_ex\n",
    "            #print(w_ij_ex.shape)\n",
    "            w_ij_coll.append(w_ij_ex)\n",
    "            w_ij[iTrace,jTrace] = w_ij_ex\n",
    "        # normalize w_ij\n",
    "        max_w_ij = max(w_ij_coll)\n",
    "        w_ij[iTrace,] = w_ij[iTrace,] - max_w_ij - np.log(np.sum(np.exp(w_ij[iTrace,]-max_w_ij)))\n",
    "\n",
    "    print('MSTEP')\n",
    "    for jTrace in range(j):\n",
    "        print(jTrace)\n",
    "        sigmaXiWij = np.zeros(k)\n",
    "        sigmaWij = 0\n",
    "        sigmaXi1wij = 0\n",
    "        for iTrace in range(i):\n",
    "            sigmaXiWij = sigmaXiWij + x_mat[iTrace,] * np.exp(w_ij[iTrace,jTrace])\n",
    "            sigmaXi1wij = sigmaXi1wij + (x_mat[iTrace,].dot(np.ones(k))) * np.exp(w_ij[iTrace,jTrace])\n",
    "            sigmaWij = sigmaWij + np.exp(w_ij[iTrace,jTrace])\n",
    "        p_jk[jTrace,] = sigmaXiWij / sigmaXi1wij\n",
    "        pi_j[jTrace] = sigmaWij / k\n",
    "\n",
    "    # normalize\n",
    "    p_jk = p_jk + epsilon\n",
    "    # normalize p_jk so the probability will be equal one\n",
    "    #p_jk = [p_jk[x,]/sum(p_jk[x,]) for x in range(j)]\n",
    "    p_jk = np.asarray([np.asarray(p_jk[x,]/p_jk[x,].sum()) for x in range(j)])\n",
    "    print(p_jk.shape)\n",
    "    p_jk = np.reshape(p_jk,(j,k))\n",
    "    # test normalize function\n",
    "    #p_jk[1,].sum()\n",
    "    \n",
    "    #calculate the Q change\n",
    "    new_Q = (sum_Qpart*(w_ij)).sum()\n",
    "    #print(new_Q)\n",
    "    trace_Q = abs((old_Q-new_Q)/new_Q)\n",
    "    old_Q = new_Q\n",
    "    #print(trace_Q.shape)\n",
    "    print(trace_Q)\n"
   ]
  },
  {
   "cell_type": "code",
   "execution_count": 38,
   "metadata": {
    "collapsed": false
   },
   "outputs": [
    {
     "data": {
      "text/plain": [
       "1.0"
      ]
     },
     "execution_count": 38,
     "metadata": {},
     "output_type": "execute_result"
    }
   ],
   "source": [
    "p_jk[1,].sum()"
   ]
  },
  {
   "cell_type": "code",
   "execution_count": 39,
   "metadata": {
    "collapsed": true
   },
   "outputs": [],
   "source": [
    "npvoc = np.array(vocabulary)"
   ]
  },
  {
   "cell_type": "code",
   "execution_count": 51,
   "metadata": {
    "collapsed": false
   },
   "outputs": [
    {
     "data": {
      "text/plain": [
       "array([['network', 'model', 'data', ..., 'flicker', 'fogel', 'zwislocki'],\n",
       "       ['network', 'model', 'learning', ..., 'loess', 'lives', 'zwislocki'],\n",
       "       ['network', 'neuron', 'function', ..., 'latent', 'lea', 'zwislocki'],\n",
       "       ..., \n",
       "       ['learning', 'function', 'algorithm', ..., 'innate', 'injected',\n",
       "        'zwislocki'],\n",
       "       ['learning', 'rules', 'examples', ..., 'helsinki', 'hemisphere',\n",
       "        'zwislocki'],\n",
       "       ['cell', 'direction', 'model', ..., 'illus', 'ild', 'zwislocki']], \n",
       "      dtype='<U23')"
      ]
     },
     "execution_count": 51,
     "metadata": {},
     "output_type": "execute_result"
    }
   ],
   "source": [
    "npvoc[np.argsort(-p_jk)]"
   ]
  },
  {
   "cell_type": "code",
   "execution_count": 64,
   "metadata": {
    "collapsed": false
   },
   "outputs": [
    {
     "data": {
      "text/plain": [
       "<Container object of 30 artists>"
      ]
     },
     "execution_count": 64,
     "metadata": {},
     "output_type": "execute_result"
    },
    {
     "data": {
      "image/png": "[encoded data removed]",
      "text/plain": [
       "<matplotlib.figure.Figure at 0x11b63ca20>"
      ]
     },
     "metadata": {},
     "output_type": "display_data"
    }
   ],
   "source": [
    "plt.bar(range(totalClust),pi_j)"
   ]
  },
  {
   "cell_type": "code",
   "execution_count": 69,
   "metadata": {
    "collapsed": false
   },
   "outputs": [],
   "source": [
    "# this is slow, better using first algorithm\n",
    "import math, random, copy\n",
    "import numpy as np\n",
    "import sys\n",
    "from scipy import misc\n",
    "from scipy.spatial import distance\n",
    "from scipy.cluster.vq import vq, kmeans, whiten\n",
    "from numpy.linalg import inv\n",
    "import math\n",
    "import matplotlib.pyplot as plt\n",
    "\n",
    "\n",
    "def expectation_maximization(x, nbclusters, nbiter=30, epsilon=0.0001):\n",
    "\n",
    "    def closest_cluster(words_for_doc, mus, nbclusters):\n",
    "        distances = np.zeros((nbclusters,))\n",
    "        for j in range(nbclusters):\n",
    "            distances[j] = distance.euclidean(words_for_doc, mus[j])\n",
    "        return np.argmin(distances)\n",
    "\n",
    "    def calculate_q(x, nbclusters, mus, pies, w):\n",
    "        sigma = 0\n",
    "        for j in range(nbclusters):\n",
    "            inner_prod = x*np.log(mus[j])\n",
    "            sum = inner_prod + math.log(pies[j])\n",
    "            sigma += sum*w[:,j,np.newaxis]\n",
    "        return np.sum(sigma)\n",
    "\n",
    "\n",
    "    #E step, compute w_i,j\n",
    "    #vector of pies - pies - [j]\n",
    "    #vector of mus - mus - [j,k]\n",
    "    #x - [i,k]\n",
    "    #w should be [i,j]\n",
    "    #logA - [i,j]\n",
    "    #logA_max - [i,1]\n",
    "    #logY - log(w_ij)\n",
    "    def e_step(x, nbclusters, mus, pies):\n",
    "        logA = np.zeros((x.shape[0], nbclusters))\n",
    "        for j in range(nbclusters):\n",
    "            sigma = x*np.log(mus[j])\n",
    "            logA[:,j] = np.log(pies[j]) + np.sum(sigma, axis=1)\n",
    "        logA_max = np.zeros((x.shape[0],))\n",
    "        logA.max(axis=1, out=logA_max)\n",
    "        sum=0\n",
    "        for j in range(nbclusters):\n",
    "            sum += np.exp(logA[:,j] - logA_max)\n",
    "        term3 = np.log(sum)\n",
    "        logY = np.zeros((x.shape[0], nbclusters))\n",
    "        for j in range(nbclusters):\n",
    "            logY[:,j] = logA[:,j] - logA_max - term3\n",
    "        y = np.exp(logY)\n",
    "        w = y\n",
    "        return w\n",
    "\n",
    "\n",
    "    def m_step(x, w, nbclusters):\n",
    "        new_mus = np.zeros((nbclusters, x.shape[1]))\n",
    "        new_pies = np.zeros((nbclusters))\n",
    "        for j in range(nbclusters):\n",
    "            den = np.sum(np.sum(x, axis=1)*w[:,j])\n",
    "            num = np.sum(x*w[:,j,np.newaxis], axis=0)\n",
    "            new_mus[j] = num/den\n",
    "            new_pies[j] = np.sum(w[:,j])/1500\n",
    "        new_new_mus = np.zeros((nbclusters, x.shape[1]))\n",
    "        for j in range(nbclusters):\n",
    "            new_new_mus[j] = (new_mus[j]+.0001)/(np.sum(new_mus[j])+new_mus.shape[1]/10000)\n",
    "        return new_new_mus, new_pies\n",
    "\n",
    "\n",
    "    #USE K-MEANS TO GET INITIAL CENTERS\n",
    "    centroids, distortion = kmeans(x,k_or_guess=nbclusters, iter=5)\n",
    "    #normalizes ps ie mus\n",
    "    mus = np.zeros((nbclusters, centroids.shape[1]))\n",
    "    for j in range(nbclusters):\n",
    "        mus[j] = (centroids[j]+.0001)/(np.sum(centroids[j])+centroids.shape[1]/10000)\n",
    "\n",
    "    pies = np.full((nbclusters), 1.0/nbclusters)\n",
    "    iter = 0\n",
    "    difference = 10000\n",
    "    old_q = 0\n",
    "    q = 0\n",
    "    while iter < 30 and difference > epsilon:\n",
    "        iter += 1\n",
    "        print(\"running iteration \" + str(iter))\n",
    "        w = e_step(x, nbclusters, mus, pies)\n",
    "        mus, pies = m_step(x, w, nbclusters)\n",
    "        old_q = q\n",
    "        q = calculate_q(x, nbclusters, mus, pies, w)\n",
    "        difference = abs(q-old_q)/abs(q)\n",
    "        print(\"Difference in quality is \" + str(difference))\n",
    "\n",
    "    result = {}\n",
    "    result['clusters'] = {}\n",
    "    result['params'] = {}\n",
    "    for i in range(nbclusters):\n",
    "        result['params'][i] = {}\n",
    "        result['params'][i]['pi'] = pies[i]\n",
    "        result['params'][i]['mu'] = mus[i]\n",
    "    for index, words_for_doc in enumerate(x):\n",
    "        cluster = closest_cluster(words_for_doc, mus, nbclusters)\n",
    "        if cluster not in result['clusters']:\n",
    "            result['clusters'][cluster]=[]\n",
    "        result['clusters'][cluster].append(index)\n",
    "\n",
    "    #find top 10 words for each cluster\n",
    "    \"\"\"\n",
    "    print \"\"\n",
    "    print \"top 10 words for each cluster\"\n",
    "    data = [line.strip() for line in open(\"vocab.nips.txt\", 'r')]\n",
    "    for i in xrange(nbclusters):\n",
    "        top10 = result['params'][i]['mu'].argsort()[-10:][::-1]\n",
    "        top10_words = [data[index] for index in top10]\n",
    "        print top10_words\n",
    "    \"\"\"\n",
    "    return result\n"
   ]
  },
  {
   "cell_type": "code",
   "execution_count": 72,
   "metadata": {
    "collapsed": false
   },
   "outputs": [
    {
     "name": "stdout",
     "output_type": "stream",
     "text": [
      "running iteration 1\n"
     ]
    },
    {
     "ename": "KeyboardInterrupt",
     "evalue": "",
     "output_type": "error",
     "traceback": [
      "\u001b[0;31m---------------------------------------------------------------------------\u001b[0m",
      "\u001b[0;31mKeyboardInterrupt\u001b[0m                         Traceback (most recent call last)",
      "\u001b[0;32m/Volumes/HD-500GB/Users/nikolausn/Applications/anaconda/lib/python3.5/site-packages/IPython/core/interactiveshell.py\u001b[0m in \u001b[0;36mrun_code\u001b[0;34m(self, code_obj, result)\u001b[0m\n\u001b[1;32m   2884\u001b[0m                 \u001b[0;31m#rprint('Running code', repr(code_obj)) # dbg\u001b[0m\u001b[0;34m\u001b[0m\u001b[0;34m\u001b[0m\u001b[0m\n\u001b[0;32m-> 2885\u001b[0;31m                 \u001b[0mexec\u001b[0m\u001b[0;34m(\u001b[0m\u001b[0mcode_obj\u001b[0m\u001b[0;34m,\u001b[0m \u001b[0mself\u001b[0m\u001b[0;34m.\u001b[0m\u001b[0muser_global_ns\u001b[0m\u001b[0;34m,\u001b[0m \u001b[0mself\u001b[0m\u001b[0;34m.\u001b[0m\u001b[0muser_ns\u001b[0m\u001b[0;34m)\u001b[0m\u001b[0;34m\u001b[0m\u001b[0m\n\u001b[0m\u001b[1;32m   2886\u001b[0m             \u001b[0;32mfinally\u001b[0m\u001b[0;34m:\u001b[0m\u001b[0;34m\u001b[0m\u001b[0m\n",
      "\u001b[0;32m<ipython-input-72-27888bf585c4>\u001b[0m in \u001b[0;36m<module>\u001b[0;34m()\u001b[0m\n\u001b[0;32m----> 1\u001b[0;31m \u001b[0mtest\u001b[0m \u001b[0;34m=\u001b[0m \u001b[0mexpectation_maximization\u001b[0m\u001b[0;34m(\u001b[0m\u001b[0mx_mat\u001b[0m\u001b[0;34m,\u001b[0m\u001b[0;36m30\u001b[0m\u001b[0;34m)\u001b[0m\u001b[0;34m\u001b[0m\u001b[0m\n\u001b[0m",
      "\u001b[0;32m<ipython-input-69-d25d661aba04>\u001b[0m in \u001b[0;36mexpectation_maximization\u001b[0;34m(x, nbclusters, nbiter, epsilon)\u001b[0m\n\u001b[1;32m     87\u001b[0m         \u001b[0mold_q\u001b[0m \u001b[0;34m=\u001b[0m \u001b[0mq\u001b[0m\u001b[0;34m\u001b[0m\u001b[0m\n\u001b[0;32m---> 88\u001b[0;31m         \u001b[0mq\u001b[0m \u001b[0;34m=\u001b[0m \u001b[0mcalculate_q\u001b[0m\u001b[0;34m(\u001b[0m\u001b[0mx\u001b[0m\u001b[0;34m,\u001b[0m \u001b[0mnbclusters\u001b[0m\u001b[0;34m,\u001b[0m \u001b[0mmus\u001b[0m\u001b[0;34m,\u001b[0m \u001b[0mpies\u001b[0m\u001b[0;34m,\u001b[0m \u001b[0mw\u001b[0m\u001b[0;34m)\u001b[0m\u001b[0;34m\u001b[0m\u001b[0m\n\u001b[0m\u001b[1;32m     89\u001b[0m         \u001b[0mdifference\u001b[0m \u001b[0;34m=\u001b[0m \u001b[0mabs\u001b[0m\u001b[0;34m(\u001b[0m\u001b[0mq\u001b[0m\u001b[0;34m-\u001b[0m\u001b[0mold_q\u001b[0m\u001b[0;34m)\u001b[0m\u001b[0;34m/\u001b[0m\u001b[0mabs\u001b[0m\u001b[0;34m(\u001b[0m\u001b[0mq\u001b[0m\u001b[0;34m)\u001b[0m\u001b[0;34m\u001b[0m\u001b[0m\n",
      "\u001b[0;32m<ipython-input-69-d25d661aba04>\u001b[0m in \u001b[0;36mcalculate_q\u001b[0;34m(x, nbclusters, mus, pies, w)\u001b[0m\n\u001b[1;32m     22\u001b[0m         \u001b[0;32mfor\u001b[0m \u001b[0mj\u001b[0m \u001b[0;32min\u001b[0m \u001b[0mrange\u001b[0m\u001b[0;34m(\u001b[0m\u001b[0mnbclusters\u001b[0m\u001b[0;34m)\u001b[0m\u001b[0;34m:\u001b[0m\u001b[0;34m\u001b[0m\u001b[0m\n\u001b[0;32m---> 23\u001b[0;31m             \u001b[0minner_prod\u001b[0m \u001b[0;34m=\u001b[0m \u001b[0mx\u001b[0m\u001b[0;34m*\u001b[0m\u001b[0mnp\u001b[0m\u001b[0;34m.\u001b[0m\u001b[0mlog\u001b[0m\u001b[0;34m(\u001b[0m\u001b[0mmus\u001b[0m\u001b[0;34m[\u001b[0m\u001b[0mj\u001b[0m\u001b[0;34m]\u001b[0m\u001b[0;34m)\u001b[0m\u001b[0;34m\u001b[0m\u001b[0m\n\u001b[0m\u001b[1;32m     24\u001b[0m             \u001b[0msum\u001b[0m \u001b[0;34m=\u001b[0m \u001b[0minner_prod\u001b[0m \u001b[0;34m+\u001b[0m \u001b[0mmath\u001b[0m\u001b[0;34m.\u001b[0m\u001b[0mlog\u001b[0m\u001b[0;34m(\u001b[0m\u001b[0mpies\u001b[0m\u001b[0;34m[\u001b[0m\u001b[0mj\u001b[0m\u001b[0;34m]\u001b[0m\u001b[0;34m)\u001b[0m\u001b[0;34m\u001b[0m\u001b[0m\n",
      "\u001b[0;31mKeyboardInterrupt\u001b[0m: ",
      "\nDuring handling of the above exception, another exception occurred:\n",
      "\u001b[0;31mKeyboardInterrupt\u001b[0m                         Traceback (most recent call last)",
      "\u001b[0;31mKeyboardInterrupt\u001b[0m: "
     ]
    }
   ],
   "source": [
    "test = expectation_maximization(x_mat,30)"
   ]
  },
  {
   "cell_type": "code",
   "execution_count": 154,
   "metadata": {
    "collapsed": false
   },
   "outputs": [
    {
     "data": {
      "text/plain": [
       "(20001, 31494)"
      ]
     },
     "execution_count": 154,
     "metadata": {},
     "output_type": "execute_result"
    }
   ],
   "source": [
    "#x_mat = np.matrix(np.tile(np.random.randint(1000),(50,50)))\n",
    "totalClust=15\n",
    "#?np.zeros\n",
    "\n",
    "x_mat = np.zeros((20001,31494))\n",
    "with open('feat-obs.txt','r') as docfile:\n",
    "    # skip 3 lines\n",
    "    for i in range(3):\n",
    "        next(docfile)\n",
    "    for doc in docfile:        \n",
    "        content = doc.split(',')\n",
    "        x_mat[int(content[0])-1,int(content[1])-1] = int(content[2])\n",
    "    \n",
    "x_mat.shape"
   ]
  },
  {
   "cell_type": "code",
   "execution_count": 155,
   "metadata": {
    "collapsed": false
   },
   "outputs": [],
   "source": [
    "# calculate cluster center using kmeans for initialization\n",
    "centroids, distortion = kmeans(x_mat,k_or_guess=totalClust, iter=5)\n",
    "#normalizes ps ie mus\n",
    "mus = np.zeros((totalClust, centroids.shape[1]))\n",
    "for j in range(totalClust):\n",
    "    mus[j] = (centroids[j]+.0001)/(np.sum(centroids[j])+centroids.shape[1]/10000)"
   ]
  },
  {
   "cell_type": "code",
   "execution_count": 156,
   "metadata": {
    "collapsed": false
   },
   "outputs": [
    {
     "name": "stdout",
     "output_type": "stream",
     "text": [
      "(15, 31494)\n"
     ]
    },
    {
     "data": {
      "text/plain": [
       "1.0"
      ]
     },
     "execution_count": 156,
     "metadata": {},
     "output_type": "execute_result"
    }
   ],
   "source": [
    "# total clusters\n",
    "j=totalClust\n",
    "# total documents\n",
    "i=x_mat.shape[0]\n",
    "# total vocabularies\n",
    "k=x_mat.shape[1]\n",
    "\n",
    "# initialize pi_j matrix with same probability\n",
    "pi_j = np.repeat(1/j,j)\n",
    "\n",
    "# prepare words probability for each clusters and documents\n",
    "p_jk = np.matrix(np.tile(1/k,(j,k)))\n",
    "# prepare w_ij matrix initialize\n",
    "w_ij = np.matrix(np.tile(0,(i,j)))\n",
    "\n",
    "# init random for p_jk\n",
    "\"\"\"\n",
    "sample = [np.random.randint(0,high=i) for x in range(j)]\n",
    "p_jk = x_mat[sample,]\n",
    "\"\"\"\n",
    "# initialize using kmeans\n",
    "p_jk = mus\n",
    "\n",
    "# small values to avoid log(0)\n",
    "epsilon = 1e-7\n",
    "\n",
    "p_jk = p_jk + epsilon\n",
    "# normalize p_jk so the probability will be equal one\n",
    "#p_jk = [p_jk[x,]/sum(p_jk[x,]) for x in range(j)]\n",
    "p_jk = np.asarray([np.asarray(p_jk[x,]/p_jk[x,].sum()) for x in range(j)])\n",
    "print(p_jk.shape)\n",
    "p_jk = np.reshape(p_jk,(j,k))\n",
    "# test normalize function\n",
    "p_jk[1,].sum()\n",
    "\n",
    "#np.asarray(p_jk[1,]/p_jk[1,].sum())\n",
    "#np.apply_along_axis(lambda x: x,p_jk,0)\n",
    "\n",
    "#?np.random.randint"
   ]
  },
  {
   "cell_type": "code",
   "execution_count": 157,
   "metadata": {
    "collapsed": false
   },
   "outputs": [
    {
     "name": "stdout",
     "output_type": "stream",
     "text": [
      "ESTEP\n",
      "MSTEP\n",
      "1.0\n",
      "ESTEP\n",
      "MSTEP\n",
      "0.331896710601\n",
      "ESTEP\n",
      "MSTEP\n",
      "0.0138953272681\n",
      "ESTEP\n",
      "MSTEP\n",
      "0.000900901172858\n",
      "ESTEP\n",
      "MSTEP\n",
      "0.000337840116263\n",
      "ESTEP\n",
      "MSTEP\n",
      "8.98778915622e-05\n"
     ]
    }
   ],
   "source": [
    "trace_Q = 100\n",
    "old_Q = 0\n",
    "treshold = 1e-4\n",
    "count = 0\n",
    "max_iter = 20\n",
    "while(trace_Q > treshold and count<max_iter):\n",
    "    count+=1\n",
    "    sum_Qpart = 0\n",
    "    print('ESTEP')\n",
    "    for iTrace in range(i):\n",
    "        w_ij_coll = []\n",
    "        for jTrace in range(j):\n",
    "            #print(x_mat[iTrace,].shape)\n",
    "            #print(p_jk[jTrace,].shape)\n",
    "            #print(x_mat[iTrace,].dot(np.log(p_jk[jTrace,])))\n",
    "            w_ij_ex = x_mat[iTrace,].dot(np.log(p_jk[jTrace,])) + np.log(pi_j[jTrace])\n",
    "            sum_Qpart = sum_Qpart + w_ij_ex\n",
    "            #print(w_ij_ex.shape)\n",
    "            w_ij_coll.append(w_ij_ex)\n",
    "            w_ij[iTrace,jTrace] = w_ij_ex\n",
    "        # normalize w_ij\n",
    "        max_w_ij = max(w_ij_coll)\n",
    "        w_ij[iTrace,] = w_ij[iTrace,] - max_w_ij - np.log(np.sum(np.exp(w_ij[iTrace,]-max_w_ij)))\n",
    "\n",
    "    print('MSTEP')\n",
    "    for jTrace in range(j):\n",
    "        #print(jTrace)\n",
    "        sigmaXiWij = np.zeros(k)\n",
    "        sigmaWij = 0\n",
    "        sigmaXi1wij = 0\n",
    "        for iTrace in range(i):\n",
    "            sigmaXiWij = sigmaXiWij + x_mat[iTrace,] * np.exp(w_ij[iTrace,jTrace])\n",
    "            sigmaXi1wij = sigmaXi1wij + (x_mat[iTrace,].dot(np.ones(k))) * np.exp(w_ij[iTrace,jTrace])\n",
    "            sigmaWij = sigmaWij + np.exp(w_ij[iTrace,jTrace])\n",
    "        p_jk[jTrace,] = sigmaXiWij / sigmaXi1wij\n",
    "        pi_j[jTrace] = sigmaWij / k\n",
    "\n",
    "    # normalize\n",
    "    p_jk = p_jk + epsilon\n",
    "    # normalize p_jk so the probability will be equal one\n",
    "    #p_jk = [p_jk[x,]/sum(p_jk[x,]) for x in range(j)]\n",
    "    p_jk = np.asarray([np.asarray(p_jk[x,]/p_jk[x,].sum()) for x in range(j)])\n",
    "    #print(p_jk.shape)\n",
    "    p_jk = np.reshape(p_jk,(j,k))\n",
    "    # test normalize function\n",
    "    #p_jk[1,].sum()\n",
    "    \n",
    "    #calculate the Q change\n",
    "    new_Q = (sum_Qpart*(w_ij)).sum()\n",
    "    #print(new_Q)\n",
    "    trace_Q = abs((old_Q-new_Q)/new_Q)\n",
    "    old_Q = new_Q\n",
    "    #print(trace_Q.shape)\n",
    "    print(trace_Q)"
   ]
  },
  {
   "cell_type": "code",
   "execution_count": 158,
   "metadata": {
    "collapsed": false
   },
   "outputs": [
    {
     "data": {
      "text/plain": [
       "<Container object of 15 artists>"
      ]
     },
     "execution_count": 158,
     "metadata": {},
     "output_type": "execute_result"
    },
    {
     "data": {
      "image/png": "[encoded data removed]",
      "text/plain": [
       "<matplotlib.figure.Figure at 0x11e736f60>"
      ]
     },
     "metadata": {},
     "output_type": "display_data"
    }
   ],
   "source": [
    "plt.bar(range(totalClust),pi_j/sum(pi_j))"
   ]
  },
  {
   "cell_type": "code",
   "execution_count": 159,
   "metadata": {
    "collapsed": false
   },
   "outputs": [],
   "source": [
    "vocabulary = []\n",
    "with open('words-obs.txt','r') as vocfile:    \n",
    "    for voc in vocfile:\n",
    "        voc = voc.replace('\\n','')\n",
    "        vocabulary.append(voc)\n",
    "npvoc = np.array(vocabulary)"
   ]
  },
  {
   "cell_type": "code",
   "execution_count": 186,
   "metadata": {
    "collapsed": false
   },
   "outputs": [
    {
     "data": {
      "text/plain": [
       "array([['mars', 'jihad', 'lose', 'bureaucratic', 'para', 'world',\n",
       "        'gtupdate', 'voice', 'newspaper', 'grace'],\n",
       "       ['know', '55', 'efficient', 'divisi', 'looking', 'karni', 'scourge',\n",
       "        'su', 'declaro', 'new'],\n",
       "       ['commitment', 'applaud', 'king', 'fulfill', 'peace', 'laptop',\n",
       "        'infared', 'using', 'tv', 'team'],\n",
       "       ['bein', 'fails', 'political', 'diaz', 'kala', 'families', 'peace',\n",
       "        'barack', 'house', 'grace'],\n",
       "       ['january', 'jiving', 'signs', 'silencing', 'water', 'peace',\n",
       "        'mars', 'applaud', 'jihad', 'foundation'],\n",
       "       ['using', 'standards', 'british', 'tv', 'electricity', 'history',\n",
       "        'aimed', 'water', 'infared', 'jiving'],\n",
       "       ['journal', 'involves', 'stairway', 'drilling', 'establishment',\n",
       "        'precipitate', 'save', 'company', 'decline', 'infared'],\n",
       "       ['history', 'values', 'para', 'mars', 'applaud', 'peace',\n",
       "        'believed', 'generational', 'truthful', 'burden'],\n",
       "       ['game', 'bureaucratic', 'heartiest', 'fulfill', 'tap', 'prophet',\n",
       "        'rhetorical', 'importance', 'regret', 'necessary'],\n",
       "       ['mars', 'para', 'conveying', 'history', 'world', 'applaud',\n",
       "        'jihad', 'fulfill', 'team', 'january'],\n",
       "       ['tarnishes', 'applaud', 'team', 'great', 'good', 'federal',\n",
       "        'laptop', 'face', 'fulfill', 'infared'],\n",
       "       ['great', 'hours', 'world', 'king', 'tarnishes', 'task', 'friend',\n",
       "        'obama', 'live', 'team'],\n",
       "       ['pale', 'unsought', 'middle', 'charge', 'neo', 'baby', 'protected',\n",
       "        '09', 'caress', 'great'],\n",
       "       ['danger', 'wait', 'mars', 'country', 'duties', 'federal', 'vested',\n",
       "        'women', 'transformational', 'bush'],\n",
       "       ['phones', 'rates', 'great', 'imagine', 'january', 'defense',\n",
       "        'bureaucratic', 'military', 'bernard', 'enduring']], \n",
       "      dtype='<U30')"
      ]
     },
     "execution_count": 186,
     "metadata": {},
     "output_type": "execute_result"
    }
   ],
   "source": [
    "npvoc[np.argsort(-p_jk)].shape\n",
    "npvoc[np.argsort(-p_jk)][:,0:10]\n",
    "npvoc."
   ]
  },
  {
   "cell_type": "code",
   "execution_count": 149,
   "metadata": {
    "collapsed": true
   },
   "outputs": [],
   "source": [
    "import pickle"
   ]
  },
  {
   "cell_type": "code",
   "execution_count": 187,
   "metadata": {
    "collapsed": true
   },
   "outputs": [],
   "source": [
    "em_results = {}\n",
    "em_results['pi_j'] = pi_j\n",
    "em_results['p_init'] = mus\n",
    "em_results['p_jk'] = p_jk\n",
    "em_results['w_ij'] = w_ij\n",
    "em_results['cluster'] = totalClust\n",
    "pickle.dump( em_results, open( \"em_results_15b.p\", \"wb\" ) )\n"
   ]
  },
  {
   "cell_type": "code",
   "execution_count": 98,
   "metadata": {
    "collapsed": false
   },
   "outputs": [
    {
     "data": {
      "text/plain": [
       "array([[ -9.74136558e-03,  -9.58132917e-03,  -8.46137176e-03, ...,\n",
       "         -9.96618970e-08,  -9.96618970e-08,  -9.96618970e-08],\n",
       "       [ -3.45228588e-02,  -3.27734599e-02,  -2.33285546e-02, ...,\n",
       "         -9.96618970e-08,  -9.96618970e-08,  -9.96618970e-08],\n",
       "       [ -4.80845895e-02,  -3.49780309e-02,  -3.48804644e-02, ...,\n",
       "         -9.96618970e-08,  -9.96618970e-08,  -9.96618970e-08],\n",
       "       ..., \n",
       "       [ -5.05844318e-02,  -3.90146112e-02,  -3.14807745e-02, ...,\n",
       "         -9.96618970e-08,  -9.96618970e-08,  -9.96618970e-08],\n",
       "       [ -2.40751585e-02,  -1.63028954e-02,  -1.02367388e-02, ...,\n",
       "         -9.96618970e-08,  -9.96618970e-08,  -9.96618970e-08],\n",
       "       [ -6.37309710e-02,  -4.01065963e-02,  -3.35137475e-02, ...,\n",
       "         -9.96618970e-08,  -9.96618970e-08,  -9.96618970e-08]])"
      ]
     },
     "execution_count": 98,
     "metadata": {},
     "output_type": "execute_result"
    }
   ],
   "source": [
    "np.sort(-p_jk)"
   ]
  },
  {
   "cell_type": "code",
   "execution_count": 99,
   "metadata": {
    "collapsed": true
   },
   "outputs": [],
   "source": [
    "import pandas as pd"
   ]
  },
  {
   "cell_type": "code",
   "execution_count": 104,
   "metadata": {
    "collapsed": false
   },
   "outputs": [],
   "source": [
    "ex_feature = pd.read_csv('ex-feature.txt',header=None,names=['doc','word','total'])"
   ]
  },
  {
   "cell_type": "code",
   "execution_count": 112,
   "metadata": {
    "collapsed": false
   },
   "outputs": [
    {
     "data": {
      "text/plain": [
       "10.79320567456993"
      ]
     },
     "execution_count": 112,
     "metadata": {},
     "output_type": "execute_result"
    }
   ],
   "source": [
    "np.mean(ex_feature.groupby('doc')['total'].sum())"
   ]
  },
  {
   "cell_type": "code",
   "execution_count": 126,
   "metadata": {
    "collapsed": false
   },
   "outputs": [],
   "source": [
    "sum_dist = ex_feature.groupby('doc')['total'].sum()"
   ]
  },
  {
   "cell_type": "code",
   "execution_count": 127,
   "metadata": {
    "collapsed": false
   },
   "outputs": [
    {
     "data": {
      "text/plain": [
       "13.28447405993878"
      ]
     },
     "execution_count": 127,
     "metadata": {},
     "output_type": "execute_result"
    }
   ],
   "source": [
    "sum_dist[sum_dist<100].std()"
   ]
  },
  {
   "cell_type": "code",
   "execution_count": 139,
   "metadata": {
    "collapsed": false
   },
   "outputs": [
    {
     "data": {
      "text/plain": [
       "4300938"
      ]
     },
     "execution_count": 139,
     "metadata": {},
     "output_type": "execute_result"
    }
   ],
   "source": [
    "sum_dist[sum_dist<100].count()"
   ]
  },
  {
   "cell_type": "code",
   "execution_count": 132,
   "metadata": {
    "collapsed": false
   },
   "outputs": [
    {
     "data": {
      "text/plain": [
       "(array([  3.68950100e+06,   4.28476000e+05,   1.22328000e+05,\n",
       "          4.36620000e+04,   1.69710000e+04,   8.36100000e+03,\n",
       "          4.31000000e+03,   2.18600000e+03,   1.21000000e+03,\n",
       "          8.27000000e+02]),\n",
       " array([   1. ,   20.8,   40.6,   60.4,   80.2,  100. ,  119.8,  139.6,\n",
       "         159.4,  179.2,  199. ]),\n",
       " <a list of 10 Patch objects>)"
      ]
     },
     "execution_count": 132,
     "metadata": {},
     "output_type": "execute_result"
    },
    {
     "data": {
      "image/png": "[encoded data removed]",
      "text/plain": [
       "<matplotlib.figure.Figure at 0x145602080>"
      ]
     },
     "metadata": {},
     "output_type": "display_data"
    }
   ],
   "source": [
    "plt.hist(sum_dist[sum_dist<200].values)"
   ]
  },
  {
   "cell_type": "code",
   "execution_count": 188,
   "metadata": {
    "collapsed": true
   },
   "outputs": [],
   "source": [
    "npvoc.arg"
   ]
  },
  {
   "cell_type": "code",
   "execution_count": 190,
   "metadata": {
    "collapsed": false
   },
   "outputs": [
    {
     "data": {
      "text/plain": [
       "(15, 31494)"
      ]
     },
     "execution_count": 190,
     "metadata": {},
     "output_type": "execute_result"
    }
   ],
   "source": [
    "p_jk.shape"
   ]
  },
  {
   "cell_type": "code",
   "execution_count": 219,
   "metadata": {
    "collapsed": false
   },
   "outputs": [
    {
     "data": {
      "text/plain": [
       "0.19600750604320424"
      ]
     },
     "execution_count": 219,
     "metadata": {},
     "output_type": "execute_result"
    }
   ],
   "source": [
    "p_jk[:,[101,10,100,12]].sum(axis=1)\n",
    "test = p_jk[:,[1,10,1,12]].sum(axis=1)\n",
    "max(test / test.sum())"
   ]
  },
  {
   "cell_type": "code",
   "execution_count": 224,
   "metadata": {
    "collapsed": false
   },
   "outputs": [
    {
     "data": {
      "text/plain": [
       "array([[123, 345, 565]])"
      ]
     },
     "execution_count": 224,
     "metadata": {},
     "output_type": "execute_result"
    }
   ],
   "source": [
    "aha = [[123],[345],[565]]"
   ]
  },
  {
   "cell_type": "code",
   "execution_count": null,
   "metadata": {
    "collapsed": true
   },
   "outputs": [],
   "source": []
  }
 ],
 "metadata": {
  "anaconda-cloud": {},
  "kernelspec": {
   "display_name": "Python [Root]",
   "language": "python",
   "name": "Python [Root]"
  },
  "language_info": {
   "codemirror_mode": {
    "name": "ipython",
    "version": 3
   },
   "file_extension": ".py",
   "mimetype": "text/x-python",
   "name": "python",
   "nbconvert_exporter": "python",
   "pygments_lexer": "ipython3",
   "version": "3.5.2"
  }
 },
 "nbformat": 4,
 "nbformat_minor": 0
}
